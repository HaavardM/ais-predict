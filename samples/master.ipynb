{
  "nbformat": 4,
  "nbformat_minor": 0,
  "metadata": {
    "colab": {
      "name": "master.ipynb",
      "provenance": [],
      "collapsed_sections": [],
      "authorship_tag": "ABX9TyPAy7IH+kR30ePTKy28N/tE",
      "include_colab_link": true
    },
    "kernelspec": {
      "display_name": "Python 3",
      "name": "python3",
      "language": "python"
    }
  },
  "cells": [
    {
      "cell_type": "markdown",
      "metadata": {
        "id": "view-in-github",
        "colab_type": "text"
      },
      "source": [
        "<a href=\"https://colab.research.google.com/github/HaavardM/ais-predict/blob/master/samples/master.ipynb\" target=\"_parent\"><img src=\"https://colab.research.google.com/assets/colab-badge.svg\" alt=\"Open In Colab\"/></a>"
      ]
    },
    {
      "cell_type": "code",
      "metadata": {
        "colab": {
          "base_uri": "https://localhost:8080/"
        },
        "id": "9NXBM0hDChOb",
        "outputId": "1fe60272-0305-4c62-d794-43593b0c16a9"
      },
      "source": [
        "!pip3 install --upgrade geopandas google-cloud-bigquery google-cloud-bigquery-storage pyarrow gpflow\r\n",
        "!pip3 install git+https://github.com/Haavardm/ais-predict.git"
      ],
      "execution_count": 2,
      "outputs": [
        {
          "output_type": "stream",
          "text": [
            "Requirement already up-to-date: geopandas in /usr/local/lib/python3.7/dist-packages (0.9.0)\n",
            "Requirement already up-to-date: google-cloud-bigquery in /usr/local/lib/python3.7/dist-packages (2.11.0)\n",
            "Requirement already up-to-date: google-cloud-bigquery-storage in /usr/local/lib/python3.7/dist-packages (2.3.0)\n",
            "Requirement already up-to-date: pyarrow in /usr/local/lib/python3.7/dist-packages (3.0.0)\n",
            "Requirement already up-to-date: gpflow in /usr/local/lib/python3.7/dist-packages (2.1.4)\n",
            "Requirement already satisfied, skipping upgrade: shapely>=1.6 in /usr/local/lib/python3.7/dist-packages (from geopandas) (1.7.1)\n",
            "Requirement already satisfied, skipping upgrade: fiona>=1.8 in /usr/local/lib/python3.7/dist-packages (from geopandas) (1.8.18)\n",
            "Requirement already satisfied, skipping upgrade: pandas>=0.24.0 in /usr/local/lib/python3.7/dist-packages (from geopandas) (1.1.5)\n",
            "Requirement already satisfied, skipping upgrade: pyproj>=2.2.0 in /usr/local/lib/python3.7/dist-packages (from geopandas) (3.0.1)\n",
            "Requirement already satisfied, skipping upgrade: google-resumable-media<2.0dev,>=0.6.0 in /usr/local/lib/python3.7/dist-packages (from google-cloud-bigquery) (1.2.0)\n",
            "Requirement already satisfied, skipping upgrade: proto-plus>=1.10.0 in /usr/local/lib/python3.7/dist-packages (from google-cloud-bigquery) (1.14.2)\n",
            "Requirement already satisfied, skipping upgrade: google-cloud-core<2.0dev,>=1.4.1 in /usr/local/lib/python3.7/dist-packages (from google-cloud-bigquery) (1.6.0)\n",
            "Requirement already satisfied, skipping upgrade: protobuf>=3.12.0 in /usr/local/lib/python3.7/dist-packages (from google-cloud-bigquery) (3.12.4)\n",
            "Requirement already satisfied, skipping upgrade: packaging>=14.3 in /usr/local/lib/python3.7/dist-packages (from google-cloud-bigquery) (20.9)\n",
            "Requirement already satisfied, skipping upgrade: google-api-core[grpc]<2.0.0dev,>=1.23.0 in /usr/local/lib/python3.7/dist-packages (from google-cloud-bigquery) (1.26.1)\n",
            "Requirement already satisfied, skipping upgrade: libcst>=0.2.5 in /usr/local/lib/python3.7/dist-packages (from google-cloud-bigquery-storage) (0.3.17)\n",
            "Requirement already satisfied, skipping upgrade: numpy>=1.16.6 in /usr/local/lib/python3.7/dist-packages (from pyarrow) (1.19.5)\n",
            "Requirement already satisfied, skipping upgrade: scipy in /usr/local/lib/python3.7/dist-packages (from gpflow) (1.4.1)\n",
            "Requirement already satisfied, skipping upgrade: dataclasses in /usr/local/lib/python3.7/dist-packages (from gpflow) (0.6)\n",
            "Requirement already satisfied, skipping upgrade: setuptools>=41.0.0 in /usr/local/lib/python3.7/dist-packages (from gpflow) (54.0.0)\n",
            "Requirement already satisfied, skipping upgrade: tensorflow-probability>0.10.0 in /usr/local/lib/python3.7/dist-packages (from gpflow) (0.12.1)\n",
            "Requirement already satisfied, skipping upgrade: tensorflow>=2.1.0 in /usr/local/lib/python3.7/dist-packages (from gpflow) (2.4.1)\n",
            "Requirement already satisfied, skipping upgrade: multipledispatch>=0.6 in /usr/local/lib/python3.7/dist-packages (from gpflow) (0.6.0)\n",
            "Requirement already satisfied, skipping upgrade: typing-extensions in /usr/local/lib/python3.7/dist-packages (from gpflow) (3.7.4.3)\n",
            "Requirement already satisfied, skipping upgrade: tabulate in /usr/local/lib/python3.7/dist-packages (from gpflow) (0.8.9)\n",
            "Requirement already satisfied, skipping upgrade: munch in /usr/local/lib/python3.7/dist-packages (from fiona>=1.8->geopandas) (2.5.0)\n",
            "Requirement already satisfied, skipping upgrade: certifi in /usr/local/lib/python3.7/dist-packages (from fiona>=1.8->geopandas) (2020.12.5)\n",
            "Requirement already satisfied, skipping upgrade: attrs>=17 in /usr/local/lib/python3.7/dist-packages (from fiona>=1.8->geopandas) (20.3.0)\n",
            "Requirement already satisfied, skipping upgrade: six>=1.7 in /usr/local/lib/python3.7/dist-packages (from fiona>=1.8->geopandas) (1.15.0)\n",
            "Requirement already satisfied, skipping upgrade: cligj>=0.5 in /usr/local/lib/python3.7/dist-packages (from fiona>=1.8->geopandas) (0.7.1)\n",
            "Requirement already satisfied, skipping upgrade: click<8,>=4.0 in /usr/local/lib/python3.7/dist-packages (from fiona>=1.8->geopandas) (7.1.2)\n",
            "Requirement already satisfied, skipping upgrade: click-plugins>=1.0 in /usr/local/lib/python3.7/dist-packages (from fiona>=1.8->geopandas) (1.1.1)\n",
            "Requirement already satisfied, skipping upgrade: python-dateutil>=2.7.3 in /usr/local/lib/python3.7/dist-packages (from pandas>=0.24.0->geopandas) (2.8.1)\n",
            "Requirement already satisfied, skipping upgrade: pytz>=2017.2 in /usr/local/lib/python3.7/dist-packages (from pandas>=0.24.0->geopandas) (2018.9)\n",
            "Requirement already satisfied, skipping upgrade: google-crc32c<2.0dev,>=1.0; python_version >= \"3.5\" in /usr/local/lib/python3.7/dist-packages (from google-resumable-media<2.0dev,>=0.6.0->google-cloud-bigquery) (1.1.2)\n",
            "Requirement already satisfied, skipping upgrade: google-auth<2.0dev,>=1.24.0 in /usr/local/lib/python3.7/dist-packages (from google-cloud-core<2.0dev,>=1.4.1->google-cloud-bigquery) (1.27.1)\n",
            "Requirement already satisfied, skipping upgrade: pyparsing>=2.0.2 in /usr/local/lib/python3.7/dist-packages (from packaging>=14.3->google-cloud-bigquery) (2.4.7)\n",
            "Requirement already satisfied, skipping upgrade: googleapis-common-protos<2.0dev,>=1.6.0 in /usr/local/lib/python3.7/dist-packages (from google-api-core[grpc]<2.0.0dev,>=1.23.0->google-cloud-bigquery) (1.53.0)\n",
            "Requirement already satisfied, skipping upgrade: requests<3.0.0dev,>=2.18.0 in /usr/local/lib/python3.7/dist-packages (from google-api-core[grpc]<2.0.0dev,>=1.23.0->google-cloud-bigquery) (2.23.0)\n",
            "Requirement already satisfied, skipping upgrade: grpcio<2.0dev,>=1.29.0; extra == \"grpc\" in /usr/local/lib/python3.7/dist-packages (from google-api-core[grpc]<2.0.0dev,>=1.23.0->google-cloud-bigquery) (1.32.0)\n",
            "Requirement already satisfied, skipping upgrade: pyyaml>=5.2 in /usr/local/lib/python3.7/dist-packages (from libcst>=0.2.5->google-cloud-bigquery-storage) (5.4.1)\n",
            "Requirement already satisfied, skipping upgrade: typing-inspect>=0.4.0 in /usr/local/lib/python3.7/dist-packages (from libcst>=0.2.5->google-cloud-bigquery-storage) (0.6.0)\n",
            "Requirement already satisfied, skipping upgrade: cloudpickle>=1.3 in /usr/local/lib/python3.7/dist-packages (from tensorflow-probability>0.10.0->gpflow) (1.3.0)\n",
            "Requirement already satisfied, skipping upgrade: decorator in /usr/local/lib/python3.7/dist-packages (from tensorflow-probability>0.10.0->gpflow) (4.4.2)\n",
            "Requirement already satisfied, skipping upgrade: dm-tree in /usr/local/lib/python3.7/dist-packages (from tensorflow-probability>0.10.0->gpflow) (0.1.5)\n",
            "Requirement already satisfied, skipping upgrade: gast>=0.3.2 in /usr/local/lib/python3.7/dist-packages (from tensorflow-probability>0.10.0->gpflow) (0.3.3)\n",
            "Requirement already satisfied, skipping upgrade: opt-einsum~=3.3.0 in /usr/local/lib/python3.7/dist-packages (from tensorflow>=2.1.0->gpflow) (3.3.0)\n",
            "Requirement already satisfied, skipping upgrade: absl-py~=0.10 in /usr/local/lib/python3.7/dist-packages (from tensorflow>=2.1.0->gpflow) (0.10.0)\n",
            "Requirement already satisfied, skipping upgrade: keras-preprocessing~=1.1.2 in /usr/local/lib/python3.7/dist-packages (from tensorflow>=2.1.0->gpflow) (1.1.2)\n",
            "Requirement already satisfied, skipping upgrade: flatbuffers~=1.12.0 in /usr/local/lib/python3.7/dist-packages (from tensorflow>=2.1.0->gpflow) (1.12)\n",
            "Requirement already satisfied, skipping upgrade: h5py~=2.10.0 in /usr/local/lib/python3.7/dist-packages (from tensorflow>=2.1.0->gpflow) (2.10.0)\n",
            "Requirement already satisfied, skipping upgrade: astunparse~=1.6.3 in /usr/local/lib/python3.7/dist-packages (from tensorflow>=2.1.0->gpflow) (1.6.3)\n",
            "Requirement already satisfied, skipping upgrade: wheel~=0.35 in /usr/local/lib/python3.7/dist-packages (from tensorflow>=2.1.0->gpflow) (0.36.2)\n",
            "Requirement already satisfied, skipping upgrade: tensorflow-estimator<2.5.0,>=2.4.0 in /usr/local/lib/python3.7/dist-packages (from tensorflow>=2.1.0->gpflow) (2.4.0)\n",
            "Requirement already satisfied, skipping upgrade: tensorboard~=2.4 in /usr/local/lib/python3.7/dist-packages (from tensorflow>=2.1.0->gpflow) (2.4.1)\n",
            "Requirement already satisfied, skipping upgrade: wrapt~=1.12.1 in /usr/local/lib/python3.7/dist-packages (from tensorflow>=2.1.0->gpflow) (1.12.1)\n",
            "Requirement already satisfied, skipping upgrade: google-pasta~=0.2 in /usr/local/lib/python3.7/dist-packages (from tensorflow>=2.1.0->gpflow) (0.2.0)\n",
            "Requirement already satisfied, skipping upgrade: termcolor~=1.1.0 in /usr/local/lib/python3.7/dist-packages (from tensorflow>=2.1.0->gpflow) (1.1.0)\n",
            "Requirement already satisfied, skipping upgrade: cffi>=1.0.0 in /usr/local/lib/python3.7/dist-packages (from google-crc32c<2.0dev,>=1.0; python_version >= \"3.5\"->google-resumable-media<2.0dev,>=0.6.0->google-cloud-bigquery) (1.14.5)\n",
            "Requirement already satisfied, skipping upgrade: cachetools<5.0,>=2.0.0 in /usr/local/lib/python3.7/dist-packages (from google-auth<2.0dev,>=1.24.0->google-cloud-core<2.0dev,>=1.4.1->google-cloud-bigquery) (4.2.1)\n",
            "Requirement already satisfied, skipping upgrade: pyasn1-modules>=0.2.1 in /usr/local/lib/python3.7/dist-packages (from google-auth<2.0dev,>=1.24.0->google-cloud-core<2.0dev,>=1.4.1->google-cloud-bigquery) (0.2.8)\n",
            "Requirement already satisfied, skipping upgrade: rsa<5,>=3.1.4; python_version >= \"3.6\" in /usr/local/lib/python3.7/dist-packages (from google-auth<2.0dev,>=1.24.0->google-cloud-core<2.0dev,>=1.4.1->google-cloud-bigquery) (4.7.2)\n",
            "Requirement already satisfied, skipping upgrade: idna<3,>=2.5 in /usr/local/lib/python3.7/dist-packages (from requests<3.0.0dev,>=2.18.0->google-api-core[grpc]<2.0.0dev,>=1.23.0->google-cloud-bigquery) (2.10)\n",
            "Requirement already satisfied, skipping upgrade: chardet<4,>=3.0.2 in /usr/local/lib/python3.7/dist-packages (from requests<3.0.0dev,>=2.18.0->google-api-core[grpc]<2.0.0dev,>=1.23.0->google-cloud-bigquery) (3.0.4)\n",
            "Requirement already satisfied, skipping upgrade: urllib3!=1.25.0,!=1.25.1,<1.26,>=1.21.1 in /usr/local/lib/python3.7/dist-packages (from requests<3.0.0dev,>=2.18.0->google-api-core[grpc]<2.0.0dev,>=1.23.0->google-cloud-bigquery) (1.24.3)\n",
            "Requirement already satisfied, skipping upgrade: mypy-extensions>=0.3.0 in /usr/local/lib/python3.7/dist-packages (from typing-inspect>=0.4.0->libcst>=0.2.5->google-cloud-bigquery-storage) (0.4.3)\n",
            "Requirement already satisfied, skipping upgrade: tensorboard-plugin-wit>=1.6.0 in /usr/local/lib/python3.7/dist-packages (from tensorboard~=2.4->tensorflow>=2.1.0->gpflow) (1.8.0)\n",
            "Requirement already satisfied, skipping upgrade: google-auth-oauthlib<0.5,>=0.4.1 in /usr/local/lib/python3.7/dist-packages (from tensorboard~=2.4->tensorflow>=2.1.0->gpflow) (0.4.3)\n",
            "Requirement already satisfied, skipping upgrade: markdown>=2.6.8 in /usr/local/lib/python3.7/dist-packages (from tensorboard~=2.4->tensorflow>=2.1.0->gpflow) (3.3.4)\n",
            "Requirement already satisfied, skipping upgrade: werkzeug>=0.11.15 in /usr/local/lib/python3.7/dist-packages (from tensorboard~=2.4->tensorflow>=2.1.0->gpflow) (1.0.1)\n",
            "Requirement already satisfied, skipping upgrade: pycparser in /usr/local/lib/python3.7/dist-packages (from cffi>=1.0.0->google-crc32c<2.0dev,>=1.0; python_version >= \"3.5\"->google-resumable-media<2.0dev,>=0.6.0->google-cloud-bigquery) (2.20)\n",
            "Requirement already satisfied, skipping upgrade: pyasn1<0.5.0,>=0.4.6 in /usr/local/lib/python3.7/dist-packages (from pyasn1-modules>=0.2.1->google-auth<2.0dev,>=1.24.0->google-cloud-core<2.0dev,>=1.4.1->google-cloud-bigquery) (0.4.8)\n",
            "Requirement already satisfied, skipping upgrade: requests-oauthlib>=0.7.0 in /usr/local/lib/python3.7/dist-packages (from google-auth-oauthlib<0.5,>=0.4.1->tensorboard~=2.4->tensorflow>=2.1.0->gpflow) (1.3.0)\n",
            "Requirement already satisfied, skipping upgrade: importlib-metadata; python_version < \"3.8\" in /usr/local/lib/python3.7/dist-packages (from markdown>=2.6.8->tensorboard~=2.4->tensorflow>=2.1.0->gpflow) (3.7.0)\n",
            "Requirement already satisfied, skipping upgrade: oauthlib>=3.0.0 in /usr/local/lib/python3.7/dist-packages (from requests-oauthlib>=0.7.0->google-auth-oauthlib<0.5,>=0.4.1->tensorboard~=2.4->tensorflow>=2.1.0->gpflow) (3.1.0)\n",
            "Requirement already satisfied, skipping upgrade: zipp>=0.5 in /usr/local/lib/python3.7/dist-packages (from importlib-metadata; python_version < \"3.8\"->markdown>=2.6.8->tensorboard~=2.4->tensorflow>=2.1.0->gpflow) (3.4.1)\n",
            "Collecting git+https://github.com/Haavardm/ais-predict.git\n",
            "  Cloning https://github.com/Haavardm/ais-predict.git to /tmp/pip-req-build-uwuihjks\n",
            "  Running command git clone -q https://github.com/Haavardm/ais-predict.git /tmp/pip-req-build-uwuihjks\n",
            "\u001b[31mERROR: Files/directories not found in /tmp/pip-req-build-uwuihjks/pip-egg-info\u001b[0m\n"
          ],
          "name": "stdout"
        }
      ]
    },
    {
      "cell_type": "code",
      "metadata": {
        "colab": {
          "base_uri": "https://localhost:8080/"
        },
        "id": "Yer6scMR60j1",
        "outputId": "21ac2971-07f1-49a4-b6c2-9db86a4749a0"
      },
      "source": [
        "from google.colab import auth\r\n",
        "auth.authenticate_user()\r\n",
        "print('Authenticated')"
      ],
      "execution_count": 1,
      "outputs": [
        {
          "output_type": "stream",
          "text": [
            "Collecting geopandas\n",
            "\u001b[?25l  Downloading https://files.pythonhosted.org/packages/d7/bf/e9cefb69d39155d122b6ddca53893b61535fa6ffdad70bf5ef708977f53f/geopandas-0.9.0-py2.py3-none-any.whl (994kB)\n",
            "\u001b[K     |████████████████████████████████| 1.0MB 10.9MB/s \n",
            "\u001b[?25hCollecting gpflow\n",
            "\u001b[?25l  Downloading https://files.pythonhosted.org/packages/c0/98/e419aa20bc760099e247461aa3f4ad604c5ebf97089c32fc7d4263335277/gpflow-2.1.4-py3-none-any.whl (255kB)\n",
            "\u001b[K     |████████████████████████████████| 256kB 36.1MB/s \n",
            "\u001b[?25hRequirement already satisfied, skipping upgrade: shapely>=1.6 in /usr/local/lib/python3.7/dist-packages (from geopandas) (1.7.1)\n",
            "Collecting pyproj>=2.2.0\n",
            "\u001b[?25l  Downloading https://files.pythonhosted.org/packages/b1/72/d52e9ca81caef056062d71991b0e9b1d16af042245627c5d0e4916a36c4f/pyproj-3.0.1-cp37-cp37m-manylinux2010_x86_64.whl (6.5MB)\n",
            "\u001b[K     |████████████████████████████████| 6.5MB 50.1MB/s \n",
            "\u001b[?25hCollecting fiona>=1.8\n",
            "\u001b[?25l  Downloading https://files.pythonhosted.org/packages/47/c2/67d1d0acbaaee3b03e5e22e3b96c33219cb5dd392531c9ff9cee7c2eb3e4/Fiona-1.8.18-cp37-cp37m-manylinux1_x86_64.whl (14.8MB)\n",
            "\u001b[K     |████████████████████████████████| 14.8MB 309kB/s \n",
            "\u001b[?25hRequirement already satisfied, skipping upgrade: pandas>=0.24.0 in /usr/local/lib/python3.7/dist-packages (from geopandas) (1.1.5)\n",
            "Requirement already satisfied, skipping upgrade: numpy in /usr/local/lib/python3.7/dist-packages (from gpflow) (1.19.5)\n",
            "Requirement already satisfied, skipping upgrade: tabulate in /usr/local/lib/python3.7/dist-packages (from gpflow) (0.8.9)\n",
            "Requirement already satisfied, skipping upgrade: tensorflow>=2.1.0 in /usr/local/lib/python3.7/dist-packages (from gpflow) (2.4.1)\n",
            "Requirement already satisfied, skipping upgrade: tensorflow-probability>0.10.0 in /usr/local/lib/python3.7/dist-packages (from gpflow) (0.12.1)\n",
            "Collecting multipledispatch>=0.6\n",
            "  Downloading https://files.pythonhosted.org/packages/89/79/429ecef45fd5e4504f7474d4c3c3c4668c267be3370e4c2fd33e61506833/multipledispatch-0.6.0-py3-none-any.whl\n",
            "Requirement already satisfied, skipping upgrade: typing-extensions in /usr/local/lib/python3.7/dist-packages (from gpflow) (3.7.4.3)\n",
            "Requirement already satisfied, skipping upgrade: setuptools>=41.0.0 in /usr/local/lib/python3.7/dist-packages (from gpflow) (54.0.0)\n",
            "Collecting dataclasses\n",
            "  Downloading https://files.pythonhosted.org/packages/26/2f/1095cdc2868052dd1e64520f7c0d5c8c550ad297e944e641dbf1ffbb9a5d/dataclasses-0.6-py3-none-any.whl\n",
            "Requirement already satisfied, skipping upgrade: packaging in /usr/local/lib/python3.7/dist-packages (from gpflow) (20.9)\n",
            "Requirement already satisfied, skipping upgrade: scipy in /usr/local/lib/python3.7/dist-packages (from gpflow) (1.4.1)\n",
            "Requirement already satisfied, skipping upgrade: certifi in /usr/local/lib/python3.7/dist-packages (from pyproj>=2.2.0->geopandas) (2020.12.5)\n",
            "Requirement already satisfied, skipping upgrade: click<8,>=4.0 in /usr/local/lib/python3.7/dist-packages (from fiona>=1.8->geopandas) (7.1.2)\n",
            "Collecting munch\n",
            "  Downloading https://files.pythonhosted.org/packages/cc/ab/85d8da5c9a45e072301beb37ad7f833cd344e04c817d97e0cc75681d248f/munch-2.5.0-py2.py3-none-any.whl\n",
            "Collecting cligj>=0.5\n",
            "  Downloading https://files.pythonhosted.org/packages/42/1e/947eadf10d6804bf276eb8a038bd5307996dceaaa41cfd21b7a15ec62f5d/cligj-0.7.1-py3-none-any.whl\n",
            "Collecting click-plugins>=1.0\n",
            "  Downloading https://files.pythonhosted.org/packages/e9/da/824b92d9942f4e472702488857914bdd50f73021efea15b4cad9aca8ecef/click_plugins-1.1.1-py2.py3-none-any.whl\n",
            "Requirement already satisfied, skipping upgrade: six>=1.7 in /usr/local/lib/python3.7/dist-packages (from fiona>=1.8->geopandas) (1.15.0)\n",
            "Requirement already satisfied, skipping upgrade: attrs>=17 in /usr/local/lib/python3.7/dist-packages (from fiona>=1.8->geopandas) (20.3.0)\n",
            "Requirement already satisfied, skipping upgrade: python-dateutil>=2.7.3 in /usr/local/lib/python3.7/dist-packages (from pandas>=0.24.0->geopandas) (2.8.1)\n",
            "Requirement already satisfied, skipping upgrade: pytz>=2017.2 in /usr/local/lib/python3.7/dist-packages (from pandas>=0.24.0->geopandas) (2018.9)\n",
            "Requirement already satisfied, skipping upgrade: h5py~=2.10.0 in /usr/local/lib/python3.7/dist-packages (from tensorflow>=2.1.0->gpflow) (2.10.0)\n",
            "Requirement already satisfied, skipping upgrade: wheel~=0.35 in /usr/local/lib/python3.7/dist-packages (from tensorflow>=2.1.0->gpflow) (0.36.2)\n",
            "Requirement already satisfied, skipping upgrade: google-pasta~=0.2 in /usr/local/lib/python3.7/dist-packages (from tensorflow>=2.1.0->gpflow) (0.2.0)\n",
            "Requirement already satisfied, skipping upgrade: wrapt~=1.12.1 in /usr/local/lib/python3.7/dist-packages (from tensorflow>=2.1.0->gpflow) (1.12.1)\n",
            "Requirement already satisfied, skipping upgrade: grpcio~=1.32.0 in /usr/local/lib/python3.7/dist-packages (from tensorflow>=2.1.0->gpflow) (1.32.0)\n",
            "Requirement already satisfied, skipping upgrade: opt-einsum~=3.3.0 in /usr/local/lib/python3.7/dist-packages (from tensorflow>=2.1.0->gpflow) (3.3.0)\n",
            "Requirement already satisfied, skipping upgrade: tensorboard~=2.4 in /usr/local/lib/python3.7/dist-packages (from tensorflow>=2.1.0->gpflow) (2.4.1)\n",
            "Requirement already satisfied, skipping upgrade: absl-py~=0.10 in /usr/local/lib/python3.7/dist-packages (from tensorflow>=2.1.0->gpflow) (0.10.0)\n",
            "Requirement already satisfied, skipping upgrade: astunparse~=1.6.3 in /usr/local/lib/python3.7/dist-packages (from tensorflow>=2.1.0->gpflow) (1.6.3)\n",
            "Requirement already satisfied, skipping upgrade: protobuf>=3.9.2 in /usr/local/lib/python3.7/dist-packages (from tensorflow>=2.1.0->gpflow) (3.12.4)\n",
            "Requirement already satisfied, skipping upgrade: tensorflow-estimator<2.5.0,>=2.4.0 in /usr/local/lib/python3.7/dist-packages (from tensorflow>=2.1.0->gpflow) (2.4.0)\n",
            "Requirement already satisfied, skipping upgrade: termcolor~=1.1.0 in /usr/local/lib/python3.7/dist-packages (from tensorflow>=2.1.0->gpflow) (1.1.0)\n",
            "Requirement already satisfied, skipping upgrade: flatbuffers~=1.12.0 in /usr/local/lib/python3.7/dist-packages (from tensorflow>=2.1.0->gpflow) (1.12)\n",
            "Requirement already satisfied, skipping upgrade: gast==0.3.3 in /usr/local/lib/python3.7/dist-packages (from tensorflow>=2.1.0->gpflow) (0.3.3)\n",
            "Requirement already satisfied, skipping upgrade: keras-preprocessing~=1.1.2 in /usr/local/lib/python3.7/dist-packages (from tensorflow>=2.1.0->gpflow) (1.1.2)\n",
            "Requirement already satisfied, skipping upgrade: cloudpickle>=1.3 in /usr/local/lib/python3.7/dist-packages (from tensorflow-probability>0.10.0->gpflow) (1.3.0)\n",
            "Requirement already satisfied, skipping upgrade: decorator in /usr/local/lib/python3.7/dist-packages (from tensorflow-probability>0.10.0->gpflow) (4.4.2)\n",
            "Requirement already satisfied, skipping upgrade: dm-tree in /usr/local/lib/python3.7/dist-packages (from tensorflow-probability>0.10.0->gpflow) (0.1.5)\n",
            "Requirement already satisfied, skipping upgrade: pyparsing>=2.0.2 in /usr/local/lib/python3.7/dist-packages (from packaging->gpflow) (2.4.7)\n",
            "Requirement already satisfied, skipping upgrade: requests<3,>=2.21.0 in /usr/local/lib/python3.7/dist-packages (from tensorboard~=2.4->tensorflow>=2.1.0->gpflow) (2.23.0)\n",
            "Requirement already satisfied, skipping upgrade: tensorboard-plugin-wit>=1.6.0 in /usr/local/lib/python3.7/dist-packages (from tensorboard~=2.4->tensorflow>=2.1.0->gpflow) (1.8.0)\n",
            "Requirement already satisfied, skipping upgrade: google-auth-oauthlib<0.5,>=0.4.1 in /usr/local/lib/python3.7/dist-packages (from tensorboard~=2.4->tensorflow>=2.1.0->gpflow) (0.4.3)\n",
            "Requirement already satisfied, skipping upgrade: markdown>=2.6.8 in /usr/local/lib/python3.7/dist-packages (from tensorboard~=2.4->tensorflow>=2.1.0->gpflow) (3.3.4)\n",
            "Requirement already satisfied, skipping upgrade: werkzeug>=0.11.15 in /usr/local/lib/python3.7/dist-packages (from tensorboard~=2.4->tensorflow>=2.1.0->gpflow) (1.0.1)\n",
            "Requirement already satisfied, skipping upgrade: google-auth<2,>=1.6.3 in /usr/local/lib/python3.7/dist-packages (from tensorboard~=2.4->tensorflow>=2.1.0->gpflow) (1.27.1)\n",
            "Requirement already satisfied, skipping upgrade: idna<3,>=2.5 in /usr/local/lib/python3.7/dist-packages (from requests<3,>=2.21.0->tensorboard~=2.4->tensorflow>=2.1.0->gpflow) (2.10)\n",
            "Requirement already satisfied, skipping upgrade: chardet<4,>=3.0.2 in /usr/local/lib/python3.7/dist-packages (from requests<3,>=2.21.0->tensorboard~=2.4->tensorflow>=2.1.0->gpflow) (3.0.4)\n",
            "Requirement already satisfied, skipping upgrade: urllib3!=1.25.0,!=1.25.1,<1.26,>=1.21.1 in /usr/local/lib/python3.7/dist-packages (from requests<3,>=2.21.0->tensorboard~=2.4->tensorflow>=2.1.0->gpflow) (1.24.3)\n",
            "Requirement already satisfied, skipping upgrade: requests-oauthlib>=0.7.0 in /usr/local/lib/python3.7/dist-packages (from google-auth-oauthlib<0.5,>=0.4.1->tensorboard~=2.4->tensorflow>=2.1.0->gpflow) (1.3.0)\n",
            "Requirement already satisfied, skipping upgrade: importlib-metadata; python_version < \"3.8\" in /usr/local/lib/python3.7/dist-packages (from markdown>=2.6.8->tensorboard~=2.4->tensorflow>=2.1.0->gpflow) (3.7.0)\n",
            "Requirement already satisfied, skipping upgrade: rsa<5,>=3.1.4; python_version >= \"3.6\" in /usr/local/lib/python3.7/dist-packages (from google-auth<2,>=1.6.3->tensorboard~=2.4->tensorflow>=2.1.0->gpflow) (4.7.2)\n",
            "Requirement already satisfied, skipping upgrade: cachetools<5.0,>=2.0.0 in /usr/local/lib/python3.7/dist-packages (from google-auth<2,>=1.6.3->tensorboard~=2.4->tensorflow>=2.1.0->gpflow) (4.2.1)\n",
            "Requirement already satisfied, skipping upgrade: pyasn1-modules>=0.2.1 in /usr/local/lib/python3.7/dist-packages (from google-auth<2,>=1.6.3->tensorboard~=2.4->tensorflow>=2.1.0->gpflow) (0.2.8)\n",
            "Requirement already satisfied, skipping upgrade: oauthlib>=3.0.0 in /usr/local/lib/python3.7/dist-packages (from requests-oauthlib>=0.7.0->google-auth-oauthlib<0.5,>=0.4.1->tensorboard~=2.4->tensorflow>=2.1.0->gpflow) (3.1.0)\n",
            "Requirement already satisfied, skipping upgrade: zipp>=0.5 in /usr/local/lib/python3.7/dist-packages (from importlib-metadata; python_version < \"3.8\"->markdown>=2.6.8->tensorboard~=2.4->tensorflow>=2.1.0->gpflow) (3.4.1)\n",
            "Requirement already satisfied, skipping upgrade: pyasn1>=0.1.3 in /usr/local/lib/python3.7/dist-packages (from rsa<5,>=3.1.4; python_version >= \"3.6\"->google-auth<2,>=1.6.3->tensorboard~=2.4->tensorflow>=2.1.0->gpflow) (0.4.8)\n",
            "Installing collected packages: pyproj, munch, cligj, click-plugins, fiona, geopandas, multipledispatch, dataclasses, gpflow\n",
            "Successfully installed click-plugins-1.1.1 cligj-0.7.1 dataclasses-0.6 fiona-1.8.18 geopandas-0.9.0 gpflow-2.1.4 multipledispatch-0.6.0 munch-2.5.0 pyproj-3.0.1\n",
            "Authenticated\n"
          ],
          "name": "stdout"
        }
      ]
    },
    {
      "cell_type": "code",
      "metadata": {
        "id": "H63ewcfQ6RfX"
      },
      "source": [
        "import numpy as np\r\n",
        "import pandas as pd\r\n",
        "import geopandas as gpd\r\n",
        "from google.cloud import bigquery, bigquery_storage\r\n",
        "import google.auth\r\n",
        "import matplotlib\r\n",
        "import matplotlib.pyplot as plt\r\n",
        "import pyproj\r\n",
        "import gpflow\r\n",
        "matplotlib.rcParams['figure.figsize'] = (15, 15)"
      ],
      "execution_count": 3,
      "outputs": []
    },
    {
      "cell_type": "code",
      "metadata": {
        "id": "BL6a0ZQm7SvG"
      },
      "source": [
        "credentials, your_project_id = google.auth.default(\r\n",
        "    scopes=[\"https://www.googleapis.com/auth/cloud-platform\"],\r\n",
        ")\r\n",
        "\r\n",
        "# Make clients.\r\n",
        "bq = bigquery.Client(credentials=credentials, project=\"master-thesis-305112\",)\r\n",
        "bqstorage = bigquery_storage.BigQueryReadClient(credentials=credentials)"
      ],
      "execution_count": 4,
      "outputs": []
    },
    {
      "cell_type": "code",
      "metadata": {
        "id": "5c-QRUNM6v3x",
        "colab": {
          "base_uri": "https://localhost:8080/",
          "height": 337
        },
        "outputId": "e6e03fa1-8edd-4a38-bc54-6cdb72a061f4"
      },
      "source": [
        "query = \"\"\"\r\n",
        "SELECT CAST(mmsi AS string) as mmsi, timestamp, prev_timestamp, ST_X(position) AS long, ST_Y(position) AS lat, ST_X(prev_position) AS prev_long, ST_Y(prev_position) AS prev_lat\r\n",
        "FROM `master-thesis-305112.ais.processed_filtered`\r\n",
        "WHERE mmsi IN (SELECT mmsi FROM `master-thesis-305112.ais.ship_configurations` ORDER BY RAND() LIMIT 16)\r\n",
        "ORDER BY mmsi, timestamp\r\n",
        "\"\"\"\r\n",
        "df = bq.query(query).result().to_dataframe(bqstorage_client=bqstorage)"
      ],
      "execution_count": 5,
      "outputs": [
        {
          "output_type": "error",
          "ename": "TypeError",
          "evalue": "ignored",
          "traceback": [
            "\u001b[0;31m---------------------------------------------------------------------------\u001b[0m",
            "\u001b[0;31mTypeError\u001b[0m                                 Traceback (most recent call last)",
            "\u001b[0;32m<ipython-input-5-6b4c9920edab>\u001b[0m in \u001b[0;36m<module>\u001b[0;34m()\u001b[0m\n\u001b[1;32m      5\u001b[0m \u001b[0mORDER\u001b[0m \u001b[0mBY\u001b[0m \u001b[0mmmsi\u001b[0m\u001b[0;34m,\u001b[0m \u001b[0mtimestamp\u001b[0m\u001b[0;34m\u001b[0m\u001b[0;34m\u001b[0m\u001b[0m\n\u001b[1;32m      6\u001b[0m \"\"\"\n\u001b[0;32m----> 7\u001b[0;31m \u001b[0mdf\u001b[0m \u001b[0;34m=\u001b[0m \u001b[0mbq\u001b[0m\u001b[0;34m.\u001b[0m\u001b[0mquery\u001b[0m\u001b[0;34m(\u001b[0m\u001b[0mquery\u001b[0m\u001b[0;34m)\u001b[0m\u001b[0;34m.\u001b[0m\u001b[0mresult\u001b[0m\u001b[0;34m(\u001b[0m\u001b[0;34m)\u001b[0m\u001b[0;34m.\u001b[0m\u001b[0mto_dataframe\u001b[0m\u001b[0;34m(\u001b[0m\u001b[0mbqstorage_client\u001b[0m\u001b[0;34m=\u001b[0m\u001b[0mbqstorage\u001b[0m\u001b[0;34m)\u001b[0m\u001b[0;34m\u001b[0m\u001b[0;34m\u001b[0m\u001b[0m\n\u001b[0m",
            "\u001b[0;32m/usr/local/lib/python3.7/dist-packages/google/cloud/bigquery/table.py\u001b[0m in \u001b[0;36mto_dataframe\u001b[0;34m(self, bqstorage_client, dtypes, progress_bar_type)\u001b[0m\n\u001b[1;32m   1580\u001b[0m         \u001b[0mframes\u001b[0m \u001b[0;34m=\u001b[0m \u001b[0;34m[\u001b[0m\u001b[0;34m]\u001b[0m\u001b[0;34m\u001b[0m\u001b[0;34m\u001b[0m\u001b[0m\n\u001b[1;32m   1581\u001b[0m         for frame in self._to_dataframe_iterable(\n\u001b[0;32m-> 1582\u001b[0;31m             \u001b[0mbqstorage_client\u001b[0m\u001b[0;34m=\u001b[0m\u001b[0mbqstorage_client\u001b[0m\u001b[0;34m,\u001b[0m \u001b[0mdtypes\u001b[0m\u001b[0;34m=\u001b[0m\u001b[0mdtypes\u001b[0m\u001b[0;34m\u001b[0m\u001b[0;34m\u001b[0m\u001b[0m\n\u001b[0m\u001b[1;32m   1583\u001b[0m         ):\n\u001b[1;32m   1584\u001b[0m             \u001b[0mframes\u001b[0m\u001b[0;34m.\u001b[0m\u001b[0mappend\u001b[0m\u001b[0;34m(\u001b[0m\u001b[0mframe\u001b[0m\u001b[0;34m)\u001b[0m\u001b[0;34m\u001b[0m\u001b[0;34m\u001b[0m\u001b[0m\n",
            "\u001b[0;32m/usr/local/lib/python3.7/dist-packages/google/cloud/bigquery/table.py\u001b[0m in \u001b[0;36m_to_page_iterable\u001b[0;34m(self, bqstorage_download, tabledata_list_download, bqstorage_client)\u001b[0m\n\u001b[1;32m   1356\u001b[0m                 \u001b[0;31m# Iterate over the stream so that read errors are raised (and\u001b[0m\u001b[0;34m\u001b[0m\u001b[0;34m\u001b[0m\u001b[0;34m\u001b[0m\u001b[0m\n\u001b[1;32m   1357\u001b[0m                 \u001b[0;31m# the method can then fallback to tabledata.list).\u001b[0m\u001b[0;34m\u001b[0m\u001b[0;34m\u001b[0m\u001b[0;34m\u001b[0m\u001b[0m\n\u001b[0;32m-> 1358\u001b[0;31m                 \u001b[0;32mfor\u001b[0m \u001b[0mitem\u001b[0m \u001b[0;32min\u001b[0m \u001b[0mbqstorage_download\u001b[0m\u001b[0;34m(\u001b[0m\u001b[0;34m)\u001b[0m\u001b[0;34m:\u001b[0m\u001b[0;34m\u001b[0m\u001b[0;34m\u001b[0m\u001b[0m\n\u001b[0m\u001b[1;32m   1359\u001b[0m                     \u001b[0;32myield\u001b[0m \u001b[0mitem\u001b[0m\u001b[0;34m\u001b[0m\u001b[0;34m\u001b[0m\u001b[0m\n\u001b[1;32m   1360\u001b[0m                 \u001b[0;32mreturn\u001b[0m\u001b[0;34m\u001b[0m\u001b[0;34m\u001b[0m\u001b[0m\n",
            "\u001b[0;32m/usr/local/lib/python3.7/dist-packages/google/cloud/bigquery/_pandas_helpers.py\u001b[0m in \u001b[0;36m_download_table_bqstorage\u001b[0;34m(project_id, table, bqstorage_client, preserve_order, selected_fields, page_to_item)\u001b[0m\n\u001b[1;32m    482\u001b[0m         \u001b[0mformat_\u001b[0m\u001b[0;34m=\u001b[0m\u001b[0mbigquery_storage_v1beta1\u001b[0m\u001b[0;34m.\u001b[0m\u001b[0menums\u001b[0m\u001b[0;34m.\u001b[0m\u001b[0mDataFormat\u001b[0m\u001b[0;34m.\u001b[0m\u001b[0mARROW\u001b[0m\u001b[0;34m,\u001b[0m\u001b[0;34m\u001b[0m\u001b[0;34m\u001b[0m\u001b[0m\n\u001b[1;32m    483\u001b[0m         \u001b[0mread_options\u001b[0m\u001b[0;34m=\u001b[0m\u001b[0mread_options\u001b[0m\u001b[0;34m,\u001b[0m\u001b[0;34m\u001b[0m\u001b[0;34m\u001b[0m\u001b[0m\n\u001b[0;32m--> 484\u001b[0;31m         \u001b[0mrequested_streams\u001b[0m\u001b[0;34m=\u001b[0m\u001b[0mrequested_streams\u001b[0m\u001b[0;34m,\u001b[0m\u001b[0;34m\u001b[0m\u001b[0;34m\u001b[0m\u001b[0m\n\u001b[0m\u001b[1;32m    485\u001b[0m     )\n\u001b[1;32m    486\u001b[0m     _LOGGER.debug(\n",
            "\u001b[0;31mTypeError\u001b[0m: create_read_session() got an unexpected keyword argument 'format_'"
          ]
        }
      ]
    },
    {
      "cell_type": "code",
      "metadata": {
        "id": "uIBAFNWe-ovA",
        "colab": {
          "base_uri": "https://localhost:8080/",
          "height": 406
        },
        "outputId": "788cb4b5-44ff-4840-9369-fa3f34bb3287"
      },
      "source": [
        "df"
      ],
      "execution_count": null,
      "outputs": [
        {
          "output_type": "execute_result",
          "data": {
            "text/html": [
              "<div>\n",
              "<style scoped>\n",
              "    .dataframe tbody tr th:only-of-type {\n",
              "        vertical-align: middle;\n",
              "    }\n",
              "\n",
              "    .dataframe tbody tr th {\n",
              "        vertical-align: top;\n",
              "    }\n",
              "\n",
              "    .dataframe thead th {\n",
              "        text-align: right;\n",
              "    }\n",
              "</style>\n",
              "<table border=\"1\" class=\"dataframe\">\n",
              "  <thead>\n",
              "    <tr style=\"text-align: right;\">\n",
              "      <th></th>\n",
              "      <th>mmsi</th>\n",
              "      <th>timestamp</th>\n",
              "      <th>prev_timestamp</th>\n",
              "      <th>long</th>\n",
              "      <th>lat</th>\n",
              "      <th>prev_long</th>\n",
              "      <th>prev_lat</th>\n",
              "    </tr>\n",
              "  </thead>\n",
              "  <tbody>\n",
              "    <tr>\n",
              "      <th>0</th>\n",
              "      <td>227731000</td>\n",
              "      <td>2015-02-12 10:30:28.999987+00:00</td>\n",
              "      <td>2015-02-12 10:20:28.000032+00:00</td>\n",
              "      <td>8.183178</td>\n",
              "      <td>63.285992</td>\n",
              "      <td>8.139022</td>\n",
              "      <td>63.273235</td>\n",
              "    </tr>\n",
              "    <tr>\n",
              "      <th>1</th>\n",
              "      <td>227731000</td>\n",
              "      <td>2015-02-12 11:01:00.000019+00:00</td>\n",
              "      <td>2015-02-12 10:52:29.000006+00:00</td>\n",
              "      <td>8.307940</td>\n",
              "      <td>63.333640</td>\n",
              "      <td>8.273407</td>\n",
              "      <td>63.319600</td>\n",
              "    </tr>\n",
              "    <tr>\n",
              "      <th>2</th>\n",
              "      <td>227731000</td>\n",
              "      <td>2015-02-12 11:10:59.999980+00:00</td>\n",
              "      <td>2015-02-12 11:01:00.000019+00:00</td>\n",
              "      <td>8.345665</td>\n",
              "      <td>63.349478</td>\n",
              "      <td>8.307940</td>\n",
              "      <td>63.333640</td>\n",
              "    </tr>\n",
              "    <tr>\n",
              "      <th>3</th>\n",
              "      <td>227731000</td>\n",
              "      <td>2015-02-12 11:22:27.999984+00:00</td>\n",
              "      <td>2015-02-12 11:10:59.999980+00:00</td>\n",
              "      <td>8.390528</td>\n",
              "      <td>63.366832</td>\n",
              "      <td>8.345665</td>\n",
              "      <td>63.349478</td>\n",
              "    </tr>\n",
              "    <tr>\n",
              "      <th>4</th>\n",
              "      <td>227731000</td>\n",
              "      <td>2015-02-12 11:32:28.000032+00:00</td>\n",
              "      <td>2015-02-12 11:22:27.999984+00:00</td>\n",
              "      <td>8.433200</td>\n",
              "      <td>63.378358</td>\n",
              "      <td>8.390528</td>\n",
              "      <td>63.366832</td>\n",
              "    </tr>\n",
              "    <tr>\n",
              "      <th>...</th>\n",
              "      <td>...</td>\n",
              "      <td>...</td>\n",
              "      <td>...</td>\n",
              "      <td>...</td>\n",
              "      <td>...</td>\n",
              "      <td>...</td>\n",
              "      <td>...</td>\n",
              "    </tr>\n",
              "    <tr>\n",
              "      <th>26222</th>\n",
              "      <td>311411000</td>\n",
              "      <td>2015-12-11 14:06:48.000038+00:00</td>\n",
              "      <td>2015-12-11 14:00:47.000015+00:00</td>\n",
              "      <td>7.981227</td>\n",
              "      <td>63.236368</td>\n",
              "      <td>8.020017</td>\n",
              "      <td>63.245508</td>\n",
              "    </tr>\n",
              "    <tr>\n",
              "      <th>26223</th>\n",
              "      <td>311411000</td>\n",
              "      <td>2015-12-11 14:12:58.000003+00:00</td>\n",
              "      <td>2015-12-11 14:06:48.000038+00:00</td>\n",
              "      <td>7.942625</td>\n",
              "      <td>63.227770</td>\n",
              "      <td>7.981227</td>\n",
              "      <td>63.236368</td>\n",
              "    </tr>\n",
              "    <tr>\n",
              "      <th>26224</th>\n",
              "      <td>311411000</td>\n",
              "      <td>2015-12-11 14:16:18.000019+00:00</td>\n",
              "      <td>2015-12-11 14:12:58.000003+00:00</td>\n",
              "      <td>7.922352</td>\n",
              "      <td>63.223103</td>\n",
              "      <td>7.942625</td>\n",
              "      <td>63.227770</td>\n",
              "    </tr>\n",
              "    <tr>\n",
              "      <th>26225</th>\n",
              "      <td>311411000</td>\n",
              "      <td>2015-12-11 14:19:07.999968+00:00</td>\n",
              "      <td>2015-12-11 14:16:18.000019+00:00</td>\n",
              "      <td>7.905232</td>\n",
              "      <td>63.219025</td>\n",
              "      <td>7.922352</td>\n",
              "      <td>63.223103</td>\n",
              "    </tr>\n",
              "    <tr>\n",
              "      <th>26226</th>\n",
              "      <td>311411000</td>\n",
              "      <td>2015-12-11 14:25:16.000032+00:00</td>\n",
              "      <td>2015-12-11 14:19:07.999968+00:00</td>\n",
              "      <td>7.868763</td>\n",
              "      <td>63.210318</td>\n",
              "      <td>7.905232</td>\n",
              "      <td>63.219025</td>\n",
              "    </tr>\n",
              "  </tbody>\n",
              "</table>\n",
              "<p>26227 rows × 7 columns</p>\n",
              "</div>"
            ],
            "text/plain": [
              "            mmsi                        timestamp  ... prev_long   prev_lat\n",
              "0      227731000 2015-02-12 10:30:28.999987+00:00  ...  8.139022  63.273235\n",
              "1      227731000 2015-02-12 11:01:00.000019+00:00  ...  8.273407  63.319600\n",
              "2      227731000 2015-02-12 11:10:59.999980+00:00  ...  8.307940  63.333640\n",
              "3      227731000 2015-02-12 11:22:27.999984+00:00  ...  8.345665  63.349478\n",
              "4      227731000 2015-02-12 11:32:28.000032+00:00  ...  8.390528  63.366832\n",
              "...          ...                              ...  ...       ...        ...\n",
              "26222  311411000 2015-12-11 14:06:48.000038+00:00  ...  8.020017  63.245508\n",
              "26223  311411000 2015-12-11 14:12:58.000003+00:00  ...  7.981227  63.236368\n",
              "26224  311411000 2015-12-11 14:16:18.000019+00:00  ...  7.942625  63.227770\n",
              "26225  311411000 2015-12-11 14:19:07.999968+00:00  ...  7.922352  63.223103\n",
              "26226  311411000 2015-12-11 14:25:16.000032+00:00  ...  7.905232  63.219025\n",
              "\n",
              "[26227 rows x 7 columns]"
            ]
          },
          "metadata": {
            "tags": []
          },
          "execution_count": 5
        }
      ]
    },
    {
      "cell_type": "code",
      "metadata": {
        "colab": {
          "base_uri": "https://localhost:8080/"
        },
        "id": "eJ2D4QHbBluR",
        "outputId": "9a24a3f5-0d78-4640-99cf-c2c6809de80c"
      },
      "source": [
        "x, y = pyproj.transform(\"wgs84\", \"epsg:3035\", df.long, df.lat)\r\n",
        "px, py =  pyproj.transform(\"wgs84\", \"epsg:3035\", df.prev_long, df.prev_lat)\r\n",
        "df[\"x\"] = ((x + px) / 2 - min(px)) / 1000 \r\n",
        "df[\"y\"] = ((y + py) / 2 - min(py)) / 1000\r\n",
        "df[\"dx\"] = 3.6 * (x - px) / (df.timestamp - df.prev_timestamp).dt.total_seconds()\r\n",
        "df[\"dy\"] = 3.6 * (y - py) / (df.timestamp - df.prev_timestamp).dt.total_seconds()\r\n",
        "df[\"angle\"] = np.arctan2(df.dy, df.dx)"
      ],
      "execution_count": null,
      "outputs": [
        {
          "output_type": "stream",
          "text": [
            "/usr/local/lib/python3.7/dist-packages/ipykernel_launcher.py:1: DeprecationWarning: This function is deprecated. See: https://pyproj4.github.io/pyproj/stable/gotchas.html#upgrading-to-pyproj-2-from-pyproj-1\n",
            "  \"\"\"Entry point for launching an IPython kernel.\n",
            "/usr/local/lib/python3.7/dist-packages/ipykernel_launcher.py:2: DeprecationWarning: This function is deprecated. See: https://pyproj4.github.io/pyproj/stable/gotchas.html#upgrading-to-pyproj-2-from-pyproj-1\n",
            "  \n"
          ],
          "name": "stderr"
        }
      ]
    },
    {
      "cell_type": "code",
      "metadata": {
        "id": "51rmh-WD3A2J",
        "colab": {
          "base_uri": "https://localhost:8080/",
          "height": 406
        },
        "outputId": "32ee3c9b-77d4-4ee1-cea9-6c7e980a38a4"
      },
      "source": [
        "df"
      ],
      "execution_count": null,
      "outputs": [
        {
          "output_type": "execute_result",
          "data": {
            "text/html": [
              "<div>\n",
              "<style scoped>\n",
              "    .dataframe tbody tr th:only-of-type {\n",
              "        vertical-align: middle;\n",
              "    }\n",
              "\n",
              "    .dataframe tbody tr th {\n",
              "        vertical-align: top;\n",
              "    }\n",
              "\n",
              "    .dataframe thead th {\n",
              "        text-align: right;\n",
              "    }\n",
              "</style>\n",
              "<table border=\"1\" class=\"dataframe\">\n",
              "  <thead>\n",
              "    <tr style=\"text-align: right;\">\n",
              "      <th></th>\n",
              "      <th>mmsi</th>\n",
              "      <th>timestamp</th>\n",
              "      <th>prev_timestamp</th>\n",
              "      <th>long</th>\n",
              "      <th>lat</th>\n",
              "      <th>prev_long</th>\n",
              "      <th>prev_lat</th>\n",
              "      <th>x</th>\n",
              "      <th>y</th>\n",
              "      <th>dx</th>\n",
              "      <th>dy</th>\n",
              "      <th>angle</th>\n",
              "    </tr>\n",
              "  </thead>\n",
              "  <tbody>\n",
              "    <tr>\n",
              "      <th>0</th>\n",
              "      <td>227731000</td>\n",
              "      <td>2015-02-12 10:30:28.999987+00:00</td>\n",
              "      <td>2015-02-12 10:20:28.000032+00:00</td>\n",
              "      <td>8.183178</td>\n",
              "      <td>63.285992</td>\n",
              "      <td>8.139022</td>\n",
              "      <td>63.273235</td>\n",
              "      <td>39.137106</td>\n",
              "      <td>77.192377</td>\n",
              "      <td>31.807198</td>\n",
              "      <td>-3.361731</td>\n",
              "      <td>-0.105300</td>\n",
              "    </tr>\n",
              "    <tr>\n",
              "      <th>1</th>\n",
              "      <td>227731000</td>\n",
              "      <td>2015-02-12 11:01:00.000019+00:00</td>\n",
              "      <td>2015-02-12 10:52:29.000006+00:00</td>\n",
              "      <td>8.307940</td>\n",
              "      <td>63.333640</td>\n",
              "      <td>8.273407</td>\n",
              "      <td>63.319600</td>\n",
              "      <td>55.413097</td>\n",
              "      <td>76.427562</td>\n",
              "      <td>31.331812</td>\n",
              "      <td>-0.467951</td>\n",
              "      <td>-0.014934</td>\n",
              "    </tr>\n",
              "    <tr>\n",
              "      <th>2</th>\n",
              "      <td>227731000</td>\n",
              "      <td>2015-02-12 11:10:59.999980+00:00</td>\n",
              "      <td>2015-02-12 11:01:00.000019+00:00</td>\n",
              "      <td>8.345665</td>\n",
              "      <td>63.349478</td>\n",
              "      <td>8.307940</td>\n",
              "      <td>63.333640</td>\n",
              "      <td>60.084120</td>\n",
              "      <td>76.380188</td>\n",
              "      <td>29.368017</td>\n",
              "      <td>-0.169948</td>\n",
              "      <td>-0.005787</td>\n",
              "    </tr>\n",
              "    <tr>\n",
              "      <th>3</th>\n",
              "      <td>227731000</td>\n",
              "      <td>2015-02-12 11:22:27.999984+00:00</td>\n",
              "      <td>2015-02-12 11:10:59.999980+00:00</td>\n",
              "      <td>8.390528</td>\n",
              "      <td>63.366832</td>\n",
              "      <td>8.345665</td>\n",
              "      <td>63.349478</td>\n",
              "      <td>65.387911</td>\n",
              "      <td>76.278211</td>\n",
              "      <td>29.893148</td>\n",
              "      <td>-0.918992</td>\n",
              "      <td>-0.030733</td>\n",
              "    </tr>\n",
              "    <tr>\n",
              "      <th>4</th>\n",
              "      <td>227731000</td>\n",
              "      <td>2015-02-12 11:32:28.000032+00:00</td>\n",
              "      <td>2015-02-12 11:22:27.999984+00:00</td>\n",
              "      <td>8.433200</td>\n",
              "      <td>63.378358</td>\n",
              "      <td>8.390528</td>\n",
              "      <td>63.366832</td>\n",
              "      <td>70.780138</td>\n",
              "      <td>75.872773</td>\n",
              "      <td>30.429242</td>\n",
              "      <td>-3.811472</td>\n",
              "      <td>-0.124608</td>\n",
              "    </tr>\n",
              "    <tr>\n",
              "      <th>...</th>\n",
              "      <td>...</td>\n",
              "      <td>...</td>\n",
              "      <td>...</td>\n",
              "      <td>...</td>\n",
              "      <td>...</td>\n",
              "      <td>...</td>\n",
              "      <td>...</td>\n",
              "      <td>...</td>\n",
              "      <td>...</td>\n",
              "      <td>...</td>\n",
              "      <td>...</td>\n",
              "      <td>...</td>\n",
              "    </tr>\n",
              "    <tr>\n",
              "      <th>26222</th>\n",
              "      <td>311411000</td>\n",
              "      <td>2015-12-11 14:06:48.000038+00:00</td>\n",
              "      <td>2015-12-11 14:00:47.000015+00:00</td>\n",
              "      <td>7.981227</td>\n",
              "      <td>63.236368</td>\n",
              "      <td>8.020017</td>\n",
              "      <td>63.245508</td>\n",
              "      <td>20.394724</td>\n",
              "      <td>79.932870</td>\n",
              "      <td>-45.032606</td>\n",
              "      <td>6.754037</td>\n",
              "      <td>2.992721</td>\n",
              "    </tr>\n",
              "    <tr>\n",
              "      <th>26223</th>\n",
              "      <td>311411000</td>\n",
              "      <td>2015-12-11 14:12:58.000003+00:00</td>\n",
              "      <td>2015-12-11 14:06:48.000038+00:00</td>\n",
              "      <td>7.942625</td>\n",
              "      <td>63.227770</td>\n",
              "      <td>7.981227</td>\n",
              "      <td>63.236368</td>\n",
              "      <td>15.907827</td>\n",
              "      <td>80.630744</td>\n",
              "      <td>-43.375365</td>\n",
              "      <td>6.990507</td>\n",
              "      <td>2.981804</td>\n",
              "    </tr>\n",
              "    <tr>\n",
              "      <th>26224</th>\n",
              "      <td>311411000</td>\n",
              "      <td>2015-12-11 14:16:18.000019+00:00</td>\n",
              "      <td>2015-12-11 14:12:58.000003+00:00</td>\n",
              "      <td>7.922352</td>\n",
              "      <td>63.223103</td>\n",
              "      <td>7.942625</td>\n",
              "      <td>63.227770</td>\n",
              "      <td>12.502621</td>\n",
              "      <td>81.171125</td>\n",
              "      <td>-42.343009</td>\n",
              "      <td>6.521267</td>\n",
              "      <td>2.988783</td>\n",
              "    </tr>\n",
              "    <tr>\n",
              "      <th>26225</th>\n",
              "      <td>311411000</td>\n",
              "      <td>2015-12-11 14:19:07.999968+00:00</td>\n",
              "      <td>2015-12-11 14:16:18.000019+00:00</td>\n",
              "      <td>7.905232</td>\n",
              "      <td>63.219025</td>\n",
              "      <td>7.922352</td>\n",
              "      <td>63.223103</td>\n",
              "      <td>10.328156</td>\n",
              "      <td>81.498546</td>\n",
              "      <td>-42.279672</td>\n",
              "      <td>6.195176</td>\n",
              "      <td>2.996100</td>\n",
              "    </tr>\n",
              "    <tr>\n",
              "      <th>26226</th>\n",
              "      <td>311411000</td>\n",
              "      <td>2015-12-11 14:25:16.000032+00:00</td>\n",
              "      <td>2015-12-11 14:19:07.999968+00:00</td>\n",
              "      <td>7.868763</td>\n",
              "      <td>63.210318</td>\n",
              "      <td>7.905232</td>\n",
              "      <td>63.219025</td>\n",
              "      <td>7.202627</td>\n",
              "      <td>81.954781</td>\n",
              "      <td>-41.620287</td>\n",
              "      <td>6.064426</td>\n",
              "      <td>2.996902</td>\n",
              "    </tr>\n",
              "  </tbody>\n",
              "</table>\n",
              "<p>26227 rows × 12 columns</p>\n",
              "</div>"
            ],
            "text/plain": [
              "            mmsi                        timestamp  ...        dy     angle\n",
              "0      227731000 2015-02-12 10:30:28.999987+00:00  ... -3.361731 -0.105300\n",
              "1      227731000 2015-02-12 11:01:00.000019+00:00  ... -0.467951 -0.014934\n",
              "2      227731000 2015-02-12 11:10:59.999980+00:00  ... -0.169948 -0.005787\n",
              "3      227731000 2015-02-12 11:22:27.999984+00:00  ... -0.918992 -0.030733\n",
              "4      227731000 2015-02-12 11:32:28.000032+00:00  ... -3.811472 -0.124608\n",
              "...          ...                              ...  ...       ...       ...\n",
              "26222  311411000 2015-12-11 14:06:48.000038+00:00  ...  6.754037  2.992721\n",
              "26223  311411000 2015-12-11 14:12:58.000003+00:00  ...  6.990507  2.981804\n",
              "26224  311411000 2015-12-11 14:16:18.000019+00:00  ...  6.521267  2.988783\n",
              "26225  311411000 2015-12-11 14:19:07.999968+00:00  ...  6.195176  2.996100\n",
              "26226  311411000 2015-12-11 14:25:16.000032+00:00  ...  6.064426  2.996902\n",
              "\n",
              "[26227 rows x 12 columns]"
            ]
          },
          "metadata": {
            "tags": []
          },
          "execution_count": 7
        }
      ]
    },
    {
      "cell_type": "code",
      "metadata": {
        "colab": {
          "base_uri": "https://localhost:8080/",
          "height": 880
        },
        "id": "97DXcZBTERix",
        "outputId": "326d673b-f5af-4aa7-d89c-0e3775366a20"
      },
      "source": [
        "d = df.copy()\r\n",
        "\r\n",
        "\r\n",
        "plt.quiver(d.x, d.y, d.dx, d.dy)\r\n",
        "\r\n",
        "#plt.xlim([200, 250])\r\n",
        "#plt.ylim([25, 75])"
      ],
      "execution_count": null,
      "outputs": [
        {
          "output_type": "execute_result",
          "data": {
            "text/plain": [
              "<matplotlib.quiver.Quiver at 0x7f5865576150>"
            ]
          },
          "metadata": {
            "tags": []
          },
          "execution_count": 8
        },
        {
          "output_type": "display_data",
          "data": {
            "image/png": "[encoded data removed]",
            "text/plain": [
              "<Figure size 1080x1080 with 1 Axes>"
            ]
          },
          "metadata": {
            "tags": [],
            "needs_background": "light"
          }
        }
      ]
    },
    {
      "cell_type": "code",
      "metadata": {
        "id": "jwau5m7UB5OM"
      },
      "source": [
        ""
      ],
      "execution_count": null,
      "outputs": []
    },
    {
      "cell_type": "code",
      "metadata": {
        "id": "9qTnf1wSTDY2"
      },
      "source": [
        ""
      ],
      "execution_count": null,
      "outputs": []
    },
    {
      "cell_type": "code",
      "metadata": {
        "id": "ippTI_IyUZtc"
      },
      "source": [
        "\r\n",
        "\r\n",
        "#pred, std = gp.predict(pred_x, return_std=True)\r\n",
        "#plot(pred, std)\r\n"
      ],
      "execution_count": null,
      "outputs": []
    },
    {
      "cell_type": "code",
      "metadata": {
        "id": "8Pa5eLkCJ4ak",
        "colab": {
          "base_uri": "https://localhost:8080/",
          "height": 193
        },
        "outputId": "4f485a91-3205-4b7b-dbab-927d00d1f09c"
      },
      "source": [
        "import gpflow as gpf\r\n",
        "import tensorflow as tf\r\n",
        "gpf.config.set_default_float(np.float64)\r\n",
        "gpf.config.set_default_summary_fmt(\"notebook\")\r\n",
        "\r\n",
        "\r\n",
        "d = df\r\n",
        "d = d.loc[d.x < 275]\r\n",
        "d = d.loc[d.x > 200]\r\n",
        "d = d.loc[d.y < 50]\r\n",
        "x = d[[\"x\", \"y\"]].to_numpy()\r\n",
        "y = d[[\"dx\", \"dy\"]].to_numpy() \r\n",
        "#y[y[:, 0] < 0] *= -1\r\n",
        "\r\n",
        "kernel = gpf.kernels.SharedIndependent(\r\n",
        "    gpf.kernels.Matern52(variance=1, lengthscales=1) + \r\n",
        "    #gpf.kernels.RationalQuadratic(lengthscales=1, variance=10, alpha=10) + \r\n",
        "    gpf.kernels.White(1), output_dim=2\r\n",
        ")\r\n",
        "#iX, iY = np.mgrid[min(x[:, 0]):max(x[:, 0]):20j, min(x[:, 1]):max(x[:, 1]):20j]\r\n",
        "inducing_points = x #np.vstack([iX.ravel(), iY.ravel()]).transpose()\r\n",
        "iv = gpf.inducing_variables.SharedIndependentInducingVariables(\r\n",
        "    gpf.inducing_variables.InducingPoints(inducing_points)\r\n",
        ")\r\n",
        "\r\n",
        "m = gpf.models.SVGP(kernel, gpf.likelihoods.Gaussian(), inducing_variable=iv, num_latent_gps=2)\r\n",
        "\r\n",
        "#gpf.set_trainable(m.inducing_variable, False)\r\n",
        "\r\n",
        "\r\n",
        "def optimize_model_with_scipy(model):\r\n",
        "    optimizer = tf.optimizers.Adam()\r\n",
        "    train_data = tf.data.Dataset.from_tensor_slices((tf.constant(x), tf.constant(y))).repeat().shuffle(x.shape[0])\r\n",
        "    training_loss = model.training_loss_closure(iter(train_data.batch(100)), compile=True)\r\n",
        "    @tf.function\r\n",
        "    def step():\r\n",
        "      optimizer.minimize(\r\n",
        "        training_loss,\r\n",
        "        model.trainable_variables,\r\n",
        "      )\r\n",
        "\r\n",
        "    logf = np.zeros(4000)\r\n",
        "    for i in range(len(logf)):\r\n",
        "      step()\r\n",
        "      logf[i] = -training_loss().numpy()\r\n",
        "      if i % 100 == 0:\r\n",
        "        print(i)\r\n",
        "    return logf\r\n",
        "gpf.utilities.print_summary(m)\r\n",
        "plt.plot(optimize_model_with_scipy(m))\r\n",
        "gpf.utilities.print_summary(m)\r\n",
        "\r\n",
        "\r\n",
        "\r\n",
        "\r\n"
      ],
      "execution_count": null,
      "outputs": [
        {
          "output_type": "display_data",
          "data": {
            "text/html": [
              "<table>\n",
              "<thead>\n",
              "<tr><th>name                                      </th><th>class    </th><th>transform       </th><th>prior  </th><th>trainable  </th><th>shape          </th><th>dtype  </th><th>value                         </th></tr>\n",
              "</thead>\n",
              "<tbody>\n",
              "<tr><td>SVGP.kernel.kernel.kernels[0].variance    </td><td>Parameter</td><td>Softplus        </td><td>       </td><td>True       </td><td>()             </td><td>float64</td><td>1.0                           </td></tr>\n",
              "<tr><td>SVGP.kernel.kernel.kernels[0].lengthscales</td><td>Parameter</td><td>Softplus        </td><td>       </td><td>True       </td><td>()             </td><td>float64</td><td>1.0                           </td></tr>\n",
              "<tr><td>SVGP.kernel.kernel.kernels[1].variance    </td><td>Parameter</td><td>Softplus        </td><td>       </td><td>True       </td><td>()             </td><td>float64</td><td>1.0                           </td></tr>\n",
              "<tr><td>SVGP.likelihood.variance                  </td><td>Parameter</td><td>Softplus + Shift</td><td>       </td><td>True       </td><td>()             </td><td>float64</td><td>1.0                           </td></tr>\n",
              "<tr><td>SVGP.inducing_variable.inducing_variable.Z</td><td>Parameter</td><td>Identity        </td><td>       </td><td>True       </td><td>(4814, 2)      </td><td>float64</td><td>[[221.63808431, 48.99022314...</td></tr>\n",
              "<tr><td>SVGP.q_mu                                 </td><td>Parameter</td><td>Identity        </td><td>       </td><td>True       </td><td>(4814, 2)      </td><td>float64</td><td>[[0., 0....                   </td></tr>\n",
              "<tr><td>SVGP.q_sqrt                               </td><td>Parameter</td><td>FillTriangular  </td><td>       </td><td>True       </td><td>(2, 4814, 4814)</td><td>float64</td><td>[[[1., 0., 0....              </td></tr>\n",
              "</tbody>\n",
              "</table>"
            ],
            "text/plain": [
              "<IPython.core.display.HTML object>"
            ]
          },
          "metadata": {
            "tags": []
          }
        },
        {
          "output_type": "stream",
          "text": [
            "0\n",
            "100\n"
          ],
          "name": "stdout"
        }
      ]
    },
    {
      "cell_type": "code",
      "metadata": {
        "id": "L9if5ACkMTf9"
      },
      "source": [
        "pX, pY = np.mgrid[min(x[:, 0]):max(x[:, 0]):40j, min(x[:, 1]):max(x[:, 1]):40j]\r\n",
        "pred_x = np.vstack([pX.ravel(), pY.ravel()]).transpose()\r\n",
        "def plot(pred_x, pred, std):\r\n",
        "  row_filter = np.any(np.abs(pred) > 1e-6, axis=1) & (std < 0.9*max(std))\r\n",
        "  print(row_filter)\r\n",
        "  pred /= np.linalg.norm(pred, axis=1).reshape(-1, 1)\r\n",
        "  plt.pcolormesh(pX, pY, std.reshape(pY.shape), cmap=\"Greys\")\r\n",
        "  plt.quiver(*x[:, :2].transpose(), *y.transpose(), color=\"blue\")\r\n",
        "  plt.quiver(*pred_x[row_filter, :2].transpose(), *pred[row_filter, :].transpose(), color=\"red\")\r\n",
        "  plt.xlim([pX[0, 0], pX[-1, -1]])\r\n",
        "  plt.ylim([pY[0, 0], pY[-1, -1]])\r\n",
        "print(pred_x.shape)\r\n",
        "pred_y = m.predict_y(pred_x)\r\n",
        "mean, std = pred_y\r\n",
        "print(mean)\r\n",
        "plot(pred_x, mean.numpy(), np.linalg.norm(std.numpy(), axis=1))"
      ],
      "execution_count": null,
      "outputs": []
    },
    {
      "cell_type": "code",
      "metadata": {
        "id": "EsrmoFBSliFS"
      },
      "source": [
        "print(d)"
      ],
      "execution_count": null,
      "outputs": []
    },
    {
      "cell_type": "code",
      "metadata": {
        "id": "LFb8p9kBccwK"
      },
      "source": [
        "from sklearn.gaussian_process import GaussianProcessRegressor\r\n",
        "from sklearn.gaussian_process.kernels import Matern\r\n",
        "\r\n",
        "d = df\r\n",
        "d = d.loc[d.x < 275]\r\n",
        "d = d.loc[d.x > 200]\r\n",
        "d = d.loc[d.y < 50]\r\n",
        "#d = d.sample(1000)\r\n",
        "x = d[[\"x\", \"y\"]].to_numpy()\r\n",
        "y = d[[\"dx\", \"dy\"]].to_numpy() \r\n",
        "y[y[:, 0] < 0, :] *= -1\r\n",
        "gp = GaussianProcessRegressor(Matern(1), alpha=0.2, n_restarts_optimizer=10)\r\n",
        "gp = gp.fit(x, y)"
      ],
      "execution_count": null,
      "outputs": []
    },
    {
      "cell_type": "code",
      "metadata": {
        "id": "QyYK1Tq0l1pM"
      },
      "source": [
        "pX, pY = np.mgrid[min(x[:, 0]):max(x[:, 0]):40j, min(x[:, 1]):max(x[:, 1]):40j]\r\n",
        "pred_x = np.vstack([pX.ravel(), pY.ravel()]).transpose()\r\n",
        "def plot(pred_x, pred, std):\r\n",
        "  row_filter = np.any(np.abs(pred) > 1e-6, axis=1) & (std < 0.9*max(std))\r\n",
        "  pred /= np.linalg.norm(pred, axis=1).reshape(-1, 1)\r\n",
        "  plt.pcolormesh(pX, pY, std.reshape(pY.shape), cmap=\"Greys\")\r\n",
        "  plt.quiver(*x[:, :2].transpose(), *y.transpose(), color=\"blue\")\r\n",
        "  plt.quiver(*pred_x[row_filter, :2].transpose(), *pred[row_filter, :].transpose(), color=\"red\")\r\n",
        "  plt.xlim([pX[0, 0], pX[-1, -1]])\r\n",
        "  plt.ylim([pY[0, 0], pY[-1, -1]])\r\n",
        "pred_y = gp.predict(pred_x, return_std=True)\r\n",
        "print(gp.get_params())\r\n",
        "print(pred_y)\r\n",
        "mean, std = pred_y\r\n",
        "plot(pred_x, mean, std)"
      ],
      "execution_count": null,
      "outputs": []
    },
    {
      "cell_type": "code",
      "metadata": {
        "id": "AwJVqkBVKPUw"
      },
      "source": [
        "gp.predict([[45, 230]], return_cov=True)"
      ],
      "execution_count": null,
      "outputs": []
    },
    {
      "cell_type": "code",
      "metadata": {
        "id": "mpQzjRF8Y3Kl"
      },
      "source": [
        "x_0 = [229, 50]\r\n",
        "x_0 = np.concatenate([x_0, [0, 0]]).reshape((1, -1))\r\n",
        "tx = np.zeros((1000, 4))\r\n",
        "tstd = np.zeros((1000, 2))\r\n",
        "tx[0] = x_0\r\n",
        "tstd[0] = [1, 1]\r\n",
        "\r\n",
        "\r\n",
        "#@tf.function\r\n",
        "#def func(x):\r\n",
        "#  return m.predict_f(x)\r\n",
        "\r\n",
        "dt = 0.01\r\n",
        "\r\n",
        "\r\n",
        "\r\n",
        "F = np.array([[1, 0, dt, 0],\r\n",
        "              [0, 1, 0, dt],\r\n",
        "              [0, 0, 1, 0 ],\r\n",
        "              [0, 0, 0, 1]]\r\n",
        ")\r\n",
        "\r\n",
        "P = np.zeros((tx.shape[0], 4, 4))\r\n",
        "P[0, :, :] = np.eye(4)\r\n",
        "H = np.array([[0, 0, 1, 0],\r\n",
        "     [0, 0, 0, 1]])\r\n",
        "\r\n",
        "Q = np.array([[((dt**3) / 3), 0, ((dt**2) / 2), 0],\r\n",
        "              [0, ((dt**3) / 3), 0, ((dt**2) / 2)],\r\n",
        "              [((dt**2) / 2), 0, dt, 0],\r\n",
        "              [0, ((dt**2) / 2), 0, dt]]) * 100\r\n",
        "\r\n",
        "for t in range(1, len(tx)):\r\n",
        "\r\n",
        "  # Predict\r\n",
        "  x_pred = F @ tx[t-1, :]\r\n",
        "  P_pred = F @ P[t-1, :, :] @ F.T + Q\r\n",
        "  z_pred = H @ x_pred\r\n",
        "\r\n",
        "  # Measure\r\n",
        "  z, s = gp.predict(x_pred[:2].reshape((1, -1)), return_std=True)\r\n",
        "  z = z.flatten()\r\n",
        "  s = s.flatten()\r\n",
        "  # Update\r\n",
        "  v = z - z_pred\r\n",
        "  S = H @ P_pred @ H.T + np.eye(2)*(s**2)\r\n",
        "  W = P_pred @ H.T @ np.linalg.inv(S)\r\n",
        "  tx[t, :] = x_pred + W @ v\r\n",
        "  P[t, :, :] = (np.eye(4)-W @ H) @ P_pred\r\n",
        "plot(pred_x, mean, std)\r\n",
        "plt.plot(*tx.T, color=\"green\", linewidth=5)\r\n",
        "plt.fill_between(tx[:, 0], tx[:, 1] + 2 * tstd[:, 1], tx[:, 1] - 2*tstd[:, 1], alpha=0.7, color=\"green\")\r\n",
        "plt.fill_betweenx(tx[:, 1], tx[:, 0] - 2 * tstd[:, 0], tx[:, 0] + 2*tstd[:, 0], alpha=0.7, color=\"green\")\r\n",
        "\r\n",
        "  "
      ],
      "execution_count": null,
      "outputs": []
    },
    {
      "cell_type": "code",
      "metadata": {
        "id": "q8rXeSInvFs2"
      },
      "source": [
        "plt.subplot(2, 2, 1)\r\n",
        "plt.plot(tx[:, 0])\r\n",
        "plt.subplot(2, 2, 2)\r\n",
        "plt.plot(tx[:, 1])\r\n",
        "plt.subplot(2, 2, 3)\r\n",
        "plt.plot(tx[:, 2])\r\n",
        "plt.subplot(2, 2, 4)\r\n",
        "plt.plot(tx[:, 3])\r\n",
        "\r\n",
        "\r\n"
      ],
      "execution_count": null,
      "outputs": []
    },
    {
      "cell_type": "code",
      "metadata": {
        "id": "3vd52IVbt4Du"
      },
      "source": [
        "plt.plot(np.linalg.norm(np.diagonal(P, axis1=1, axis2=2), axis=1))"
      ],
      "execution_count": null,
      "outputs": []
    },
    {
      "cell_type": "code",
      "metadata": {
        "id": "2u55Yvu5WEij"
      },
      "source": [
        "models = []\r\n",
        "d[\"bucket\"] = np.floor(d[\"angle\"] / (np.pi / 4))\r\n",
        "for name, t in d.groupby([\"bucket\"]):\r\n",
        "  print(name)\r\n",
        "  gp = GaussianProcessRegressor(4*Matern(length_scale=2,nu=2.5), alpha=1.2, optimizer=None)\r\n",
        "  tx = t[[\"x\", \"y\"]].to_numpy()\r\n",
        "  ty = t[[\"dx\", \"dy\"]].to_numpy()\r\n",
        "  #ty[ty[:, 0] < 0, :] *= -1\r\n",
        "  models.append(gp.fit(tx, ty))"
      ],
      "execution_count": null,
      "outputs": []
    },
    {
      "cell_type": "code",
      "metadata": {
        "id": "H4tE-uGnNL8J"
      },
      "source": [
        "models"
      ],
      "execution_count": null,
      "outputs": []
    },
    {
      "cell_type": "code",
      "metadata": {
        "id": "i8Pfp3TkGyxs"
      },
      "source": [
        "pX, pY = np.mgrid[min(x[:, 0]):max(x[:, 0]):40j, min(x[:, 1]):max(x[:, 1]):40j]\r\n",
        "pred_x = np.vstack([pX.ravel(), pY.ravel()]).transpose()\r\n",
        "plt.figure(figsize=(20, 20))\r\n",
        "rows = np.ceil(np.sqrt(len(models)))\r\n",
        "for i, m in enumerate(models):\r\n",
        "  plt.subplot(rows, rows, i+1)\r\n",
        "  pred, std = m.predict(pred_x, return_std=True)\r\n",
        "  plt.pcolormesh(pX, pY, std.reshape(pY.shape), cmap=\"Greys\")\r\n",
        "  row_filter = np.any(np.abs(pred) > 1e-6, axis=1) & (std < 0.9*max(std))\r\n",
        "  plt.quiver(*pred_x[row_filter, :].transpose(), *pred[row_filter, :].transpose(), color=\"red\")"
      ],
      "execution_count": null,
      "outputs": []
    },
    {
      "cell_type": "code",
      "metadata": {
        "id": "_sV4IOqhArCI"
      },
      "source": [
        ""
      ],
      "execution_count": null,
      "outputs": []
    }
  ]
}